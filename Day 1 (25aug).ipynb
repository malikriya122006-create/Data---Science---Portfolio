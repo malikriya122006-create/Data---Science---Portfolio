{
 "cells": [
  {
   "cell_type": "markdown",
   "id": "b48657eb-c7b9-48c4-b0f8-3aabbc566f32",
   "metadata": {},
   "source": [
    "# 1) My first code"
   ]
  },
  {
   "cell_type": "code",
   "execution_count": 1,
   "id": "2a76925e-9d70-481a-8163-eb273b710eee",
   "metadata": {},
   "outputs": [
    {
     "name": "stdout",
     "output_type": "stream",
     "text": [
      "hello world\n"
     ]
    }
   ],
   "source": [
    "print(\"hello world\")"
   ]
  },
  {
   "cell_type": "markdown",
   "id": "2c5c52a0-cd07-4f82-bade-6aff8991c0db",
   "metadata": {},
   "source": [
    "# 2) Draw a shape"
   ]
  },
  {
   "cell_type": "code",
   "execution_count": 2,
   "id": "d3153652-db93-434b-88ba-bdee9439d0b0",
   "metadata": {},
   "outputs": [
    {
     "name": "stdout",
     "output_type": "stream",
     "text": [
      "    / |\n",
      "   /  |\n",
      "  /   |\n",
      " /____| \n"
     ]
    }
   ],
   "source": [
    "print(\"    / |\")\n",
    "print(\"   /  |\")\n",
    "print(\"  /   |\")\n",
    "print(\" /____| \")"
   ]
  },
  {
   "cell_type": "markdown",
   "id": "c85133c9-59d8-43d3-8a9b-d54d9808b771",
   "metadata": {},
   "source": [
    " # 3) Variables and Data types"
   ]
  },
  {
   "cell_type": "markdown",
   "id": "cae0ce85-749e-4fb0-b53f-99ffd74a49c1",
   "metadata": {},
   "source": [
    "### There are 3 basic data types which can be stored as a value in a given variable :\n",
    "1) String - just simple plain text\n",
    "2) Nnumber - simple whole or decimal numbers ( you don't need to put numbers in quotation marks)\n",
    "3) Boolean - true or false values ( write both true and false with first letter in capital ) "
   ]
  },
  {
   "cell_type": "code",
   "execution_count": 1,
   "id": "fb934286-50d0-4755-af2a-09a2179f52b8",
   "metadata": {},
   "outputs": [
    {
     "name": "stdout",
     "output_type": "stream",
     "text": [
      "there once was a man named Raju\n",
      "he was 70 years old\n",
      "he liked the name Raju\n",
      "but didn't like being 70\n"
     ]
    }
   ],
   "source": [
    "print(\"there once was a man named Raju\")\n",
    "print(\"he was 70 years old\")\n",
    "print(\"he liked the name Raju\")\n",
    "print(\"but didn't like being 70\")\n"
   ]
  },
  {
   "cell_type": "markdown",
   "id": "e1a35f66-b879-45ea-b684-44e394759f57",
   "metadata": {},
   "source": [
    "#### suppose i want the name changed to \"Rohan\" and age changed to \"40\"but then i have to manuually go to Raju and change it to Rohan and same for age instead we define variables such as \"character name \" and \"character age\" "
   ]
  },
  {
   "cell_type": "code",
   "execution_count": 8,
   "id": "2f0d852a-030a-49db-a871-613ee409a9b9",
   "metadata": {
    "scrolled": true
   },
   "outputs": [
    {
     "name": "stdout",
     "output_type": "stream",
     "text": [
      "there once was a man named Rohan,\n",
      "he was 40 years old.\n",
      "he liked the name Rohan , \n",
      "but didn't like being 40.\n"
     ]
    }
   ],
   "source": [
    "character_name = \"Rohan\"\n",
    "character_age  =  \"40\"\n",
    "print(\"there once was a man named \" + character_name +\",\")\n",
    "print(\"he was \" + character_age + \" years old.\")\n",
    "print(\"he liked the name \" + character_name + \" , \")\n",
    "print(\"but didn't like being \"+ character_age +\".\")\n"
   ]
  },
  {
   "cell_type": "markdown",
   "id": "ac428be0-9cba-49cb-8972-2721b32559b0",
   "metadata": {},
   "source": [
    "#### but i want to change to change the character name to \"sagar\" but after 2nd given line"
   ]
  },
  {
   "cell_type": "code",
   "execution_count": 9,
   "id": "9b500a37-63fb-4478-8156-4bbc3b32e87d",
   "metadata": {},
   "outputs": [
    {
     "name": "stdout",
     "output_type": "stream",
     "text": [
      "there once was a man named Rohan,\n",
      "he was 40 years old.\n",
      "he liked the name sagar , \n",
      "but didn't like being 40.\n"
     ]
    }
   ],
   "source": [
    "character_name = \"Rohan\"\n",
    "character_age  =  \"40\"\n",
    "print(\"there once was a man named \" + character_name +\",\")\n",
    "print(\"he was \" + character_age + \" years old.\")\n",
    "character_name = \"sagar\"\n",
    "print(\"he liked the name \" + character_name + \" , \")\n",
    "print(\"but didn't like being \"+ character_age +\".\")"
   ]
  },
  {
   "cell_type": "markdown",
   "id": "b1559c7d-7a30-490e-bd3e-795900b503e7",
   "metadata": {},
   "source": [
    "#### EXPERIMENTING"
   ]
  },
  {
   "cell_type": "code",
   "execution_count": 10,
   "id": "1ad4a458-4393-46a3-9b7a-b691b6ea979e",
   "metadata": {},
   "outputs": [
    {
     "ename": "SyntaxError",
     "evalue": "unterminated string literal (detected at line 1) (1311334843.py, line 1)",
     "output_type": "error",
     "traceback": [
      "\u001b[0;36m  Cell \u001b[0;32mIn[10], line 1\u001b[0;36m\u001b[0m\n\u001b[0;31m    print(\"he liked the name \" + character_name + \"  )\u001b[0m\n\u001b[0m                                                  ^\u001b[0m\n\u001b[0;31mSyntaxError\u001b[0m\u001b[0;31m:\u001b[0m unterminated string literal (detected at line 1)\n"
     ]
    }
   ],
   "source": [
    "print(\"he liked the name \" + character_name + \"  )\n"
   ]
  },
  {
   "cell_type": "code",
   "execution_count": 11,
   "id": "807d97c6-2e84-421c-b069-70bfbc09a448",
   "metadata": {},
   "outputs": [
    {
     "name": "stdout",
     "output_type": "stream",
     "text": [
      "he liked the name sagar\n"
     ]
    }
   ],
   "source": [
    "print(\"he liked the name \" + character_name + \"\"  )\n"
   ]
  },
  {
   "cell_type": "markdown",
   "id": "4188dfb5-304b-4f23-bcae-7d23ae543c0a",
   "metadata": {},
   "source": [
    "# 4)  Working with strings "
   ]
  },
  {
   "cell_type": "markdown",
   "id": "07a2ec49-5b18-457f-85a9-49400ad35b2b",
   "metadata": {},
   "source": [
    "#### NOTE : for strings we need to use quotation marks inside the parantheses"
   ]
  },
  {
   "cell_type": "code",
   "execution_count": null,
   "id": "30d1420b-51dc-4b29-906a-e0d326a0e96b",
   "metadata": {},
   "outputs": [],
   "source": [
    "print(\"\")"
   ]
  }
 ],
 "metadata": {
  "kernelspec": {
   "display_name": "Python 3 (base)",
   "language": "python",
   "name": "base"
  },
  "language_info": {
   "codemirror_mode": {
    "name": "ipython",
    "version": 3
   },
   "file_extension": ".py",
   "mimetype": "text/x-python",
   "name": "python",
   "nbconvert_exporter": "python",
   "pygments_lexer": "ipython3",
   "version": "3.13.5"
  }
 },
 "nbformat": 4,
 "nbformat_minor": 5
}
