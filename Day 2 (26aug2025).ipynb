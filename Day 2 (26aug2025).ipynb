{
 "cells": [
  {
   "cell_type": "markdown",
   "id": "69272df3-ac2b-438c-b6c4-492a1ac4c84f",
   "metadata": {},
   "source": [
    "# 4) working with strings"
   ]
  },
  {
   "cell_type": "markdown",
   "id": "46b1198e-529d-4ea7-b8a1-4439f1e534e7",
   "metadata": {},
   "source": [
    "#### NOTE : string data type is always written with quotation mark inside the parentheses "
   ]
  },
  {
   "cell_type": "code",
   "execution_count": 1,
   "id": "310ed1c3-e37a-4710-bd79-3b2e930f5041",
   "metadata": {},
   "outputs": [
    {
     "name": "stdout",
     "output_type": "stream",
     "text": [
      "riya is cool\n"
     ]
    }
   ],
   "source": [
    "print(\"riya is cool\")"
   ]
  },
  {
   "cell_type": "markdown",
   "id": "920d12ea-50d4-4f63-8b09-8a30a225106c",
   "metadata": {},
   "source": [
    "#### if I want to add a line in my string : then simply put 'backslash with n'(\\n) in the string before the word or sentence which you want in next line"
   ]
  },
  {
   "cell_type": "code",
   "execution_count": 5,
   "id": "db14595d-bc37-4308-a13c-c5d15a8eaae2",
   "metadata": {},
   "outputs": [
    {
     "name": "stdout",
     "output_type": "stream",
     "text": [
      "riya\n",
      "is cool\n"
     ]
    }
   ],
   "source": [
    "print(\"riya\\nis cool\")"
   ]
  },
  {
   "cell_type": "markdown",
   "id": "af8a1dd2-eee7-4603-82bc-0921ba2683b1",
   "metadata": {},
   "source": [
    "#### if I want to put quotation mark in the string then i can't just write print(\"riya is \" cool\") because it wiil think that i just to print 'riya is' putting a quotation mark in the string will end the string there . \n",
    "#### so we have to put a backslash before the quotation mark to print it out"
   ]
  },
  {
   "cell_type": "code",
   "execution_count": 7,
   "id": "66034689-bf8b-4052-a29a-c7d333aecf8e",
   "metadata": {},
   "outputs": [
    {
     "name": "stdout",
     "output_type": "stream",
     "text": [
      "riya is \" cool\n"
     ]
    }
   ],
   "source": [
    "print(\"riya is \\\" cool\")"
   ]
  },
  {
   "cell_type": "markdown",
   "id": "f978ba56-bc8f-48a0-b885-339c6d99f503",
   "metadata": {},
   "source": [
    "#### if i simply want to put a backslash in the string then just put backslash in "
   ]
  },
  {
   "cell_type": "code",
   "execution_count": 8,
   "id": "67ee0455-6af4-45e7-9c51-dac0c101bdfe",
   "metadata": {},
   "outputs": [
    {
     "name": "stdout",
     "output_type": "stream",
     "text": [
      "riya is \\ cool\n"
     ]
    }
   ],
   "source": [
    "print(\"riya is \\ cool\")"
   ]
  },
  {
   "cell_type": "markdown",
   "id": "4450f49d-04a6-4cd6-b2b0-9256ed7a51a7",
   "metadata": {},
   "source": [
    "#### variables in string (puting a variable equal to a string  )\n",
    "#### have to put string inside quotation mark for  variable value"
   ]
  },
  {
   "cell_type": "code",
   "execution_count": 12,
   "id": "b4f0775b-452c-4cad-9fef-ae0d87ebacc7",
   "metadata": {},
   "outputs": [
    {
     "name": "stdout",
     "output_type": "stream",
     "text": [
      "riya is cool\n"
     ]
    }
   ],
   "source": [
    "phrase = \"riya\"\n",
    "print(phrase + \" is cool\")"
   ]
  },
  {
   "cell_type": "markdown",
   "id": "b082acc2-5676-47f1-ae03-b2337a13efed",
   "metadata": {},
   "source": [
    "## Functions with string \n",
    "#### functins can help to modify the strings and also get information about the string "
   ]
  },
  {
   "cell_type": "markdown",
   "id": "79c04538-1c05-44c9-beb8-a06d15f47554",
   "metadata": {},
   "source": [
    "### 1) fuction to convert whole string in upper or lower case"
   ]
  },
  {
   "cell_type": "code",
   "execution_count": 14,
   "id": "25df8560-413a-44f6-a736-7b00ed4f29b5",
   "metadata": {},
   "outputs": [
    {
     "name": "stdout",
     "output_type": "stream",
     "text": [
      "RIYA\n"
     ]
    }
   ],
   "source": [
    "phrase = \"riya\"\n",
    "print(phrase. upper())"
   ]
  },
  {
   "cell_type": "code",
   "execution_count": 16,
   "id": "0429a256-9798-4afb-a70b-fd49cc7ba80f",
   "metadata": {},
   "outputs": [
    {
     "name": "stdout",
     "output_type": "stream",
     "text": [
      "riya\n"
     ]
    }
   ],
   "source": [
    "phrase = \"RIYA\"\n",
    "print((phrase.lower()))"
   ]
  },
  {
   "cell_type": "markdown",
   "id": "2aca57af-669f-41be-92fc-3d33a04fad44",
   "metadata": {},
   "source": [
    "### 2) function to check if the string value of 'phrase' is upper or lower case , it will give true or false value\n",
    "### NOTE : 'islower' should be written without space "
   ]
  },
  {
   "cell_type": "code",
   "execution_count": 21,
   "id": "5b54dee9-9453-4c7e-acef-6d0012358959",
   "metadata": {},
   "outputs": [
    {
     "name": "stdout",
     "output_type": "stream",
     "text": [
      "False\n"
     ]
    }
   ],
   "source": [
    "print(phrase.islower())"
   ]
  },
  {
   "cell_type": "markdown",
   "id": "b38f6f97-26e3-4da5-9b20-ed16818ce656",
   "metadata": {},
   "source": [
    "### 3) combination of two functions ('.upper()' function and '.isupper' function )\n",
    "### here first '.lower()' converts phrase in lowercase and then '.islower()' tells if phrase is in lower or not"
   ]
  },
  {
   "cell_type": "code",
   "execution_count": 26,
   "id": "122c3142-2e1e-433d-b143-46344e46a20d",
   "metadata": {},
   "outputs": [
    {
     "name": "stdout",
     "output_type": "stream",
     "text": [
      "True\n"
     ]
    }
   ],
   "source": [
    "phrase = \"RIYA\"\n",
    "print(phrase.lower().islower())"
   ]
  },
  {
   "cell_type": "markdown",
   "id": "8ed550c4-7e4f-4a6d-be87-aae062b06828",
   "metadata": {},
   "source": [
    "### EXPERIMENTING\n",
    "#### now suppose if exchange the position of the above two fuctions "
   ]
  },
  {
   "cell_type": "code",
   "execution_count": 27,
   "id": "a2c8dbe2-368b-4f4c-9dbf-7000f7958e0e",
   "metadata": {},
   "outputs": [
    {
     "ename": "AttributeError",
     "evalue": "'bool' object has no attribute 'upper'",
     "output_type": "error",
     "traceback": [
      "\u001b[0;31m---------------------------------------------------------------------------\u001b[0m",
      "\u001b[0;31mAttributeError\u001b[0m                            Traceback (most recent call last)",
      "Cell \u001b[0;32mIn[27], line 1\u001b[0m\n\u001b[0;32m----> 1\u001b[0m \u001b[38;5;28mprint\u001b[39m(phrase\u001b[38;5;241m.\u001b[39mislower()\u001b[38;5;241m.\u001b[39mupper())\n",
      "\u001b[0;31mAttributeError\u001b[0m: 'bool' object has no attribute 'upper'"
     ]
    }
   ],
   "source": [
    "print(phrase.islower().upper())"
   ]
  },
  {
   "cell_type": "markdown",
   "id": "85853a02-2928-465c-8a5d-5e2209ff1db0",
   "metadata": {},
   "source": [
    "### 4) length(len) function \n",
    "#### it tells how many characters are there in the string"
   ]
  },
  {
   "cell_type": "code",
   "execution_count": 30,
   "id": "b9783928-3416-40f2-b71a-d7f229958033",
   "metadata": {},
   "outputs": [
    {
     "name": "stdout",
     "output_type": "stream",
     "text": [
      "4\n"
     ]
    }
   ],
   "source": [
    "print(len(phrase))"
   ]
  },
  {
   "cell_type": "markdown",
   "id": "cbf08a65-62dd-4547-9582-f4f4edb7f239",
   "metadata": {},
   "source": [
    "### 5) if i want to know  which character is at any specific positon\n",
    "#### just put closed square brackets'[]' with the specific location of the character inside the square bracket \n",
    "#### NOTE : the positon of first character of the string is not [1] , it is [0] . so the numbering of string characters start from zero(0)"
   ]
  },
  {
   "cell_type": "code",
   "execution_count": 31,
   "id": "bc7e5123-9655-472b-bce4-3b321a53735b",
   "metadata": {},
   "outputs": [
    {
     "name": "stdout",
     "output_type": "stream",
     "text": [
      "A\n"
     ]
    }
   ],
   "source": [
    "print(phrase[3])"
   ]
  },
  {
   "cell_type": "markdown",
   "id": "a9f4bdeb-ff9a-4841-a7b2-611aa3a64244",
   "metadata": {},
   "source": [
    "### 6) Index Function\n",
    "#### it just the reverse of the above function , here we give a specific character and we will get the location of that character"
   ]
  },
  {
   "cell_type": "code",
   "execution_count": 33,
   "id": "9bf29adc-9baa-4430-9aed-5fa867956a96",
   "metadata": {},
   "outputs": [
    {
     "name": "stdout",
     "output_type": "stream",
     "text": [
      "2\n"
     ]
    }
   ],
   "source": [
    "print(phrase.index(\"Y\"))"
   ]
  },
  {
   "cell_type": "markdown",
   "id": "ce69ee3f-43be-48ea-9ab6-ffe33a9d8026",
   "metadata": {},
   "source": [
    "#### we can also put words in there not just a single character \n",
    "#### then it will tell you the location of the first character of that word(that is where that word started)"
   ]
  },
  {
   "cell_type": "code",
   "execution_count": 34,
   "id": "54b0c012-56bf-4218-a2d2-51f8c465de23",
   "metadata": {},
   "outputs": [
    {
     "name": "stdout",
     "output_type": "stream",
     "text": [
      "1\n"
     ]
    }
   ],
   "source": [
    "print(phrase.index(\"IY\"))"
   ]
  },
  {
   "cell_type": "markdown",
   "id": "985c2c58-0ff2-40b9-ab38-8cf8625c8888",
   "metadata": {},
   "source": [
    "#### now suppose if put anything which is not in the string then it will show an error "
   ]
  },
  {
   "cell_type": "code",
   "execution_count": 44,
   "id": "312ca5da-bd2b-4ec1-afd3-760bbc0c5b31",
   "metadata": {},
   "outputs": [
    {
     "ename": "ValueError",
     "evalue": "substring not found",
     "output_type": "error",
     "traceback": [
      "\u001b[0;31m---------------------------------------------------------------------------\u001b[0m",
      "\u001b[0;31mValueError\u001b[0m                                Traceback (most recent call last)",
      "Cell \u001b[0;32mIn[44], line 1\u001b[0m\n\u001b[0;32m----> 1\u001b[0m \u001b[38;5;28mprint\u001b[39m(phrase\u001b[38;5;241m.\u001b[39mindex(\u001b[38;5;124m\"\u001b[39m\u001b[38;5;124mIQA\u001b[39m\u001b[38;5;124m\"\u001b[39m))\n",
      "\u001b[0;31mValueError\u001b[0m: substring not found"
     ]
    }
   ],
   "source": [
    "print(phrase.index(\"IQA\"))"
   ]
  },
  {
   "cell_type": "markdown",
   "id": "dc4d36cc-f7e4-434b-bcea-7e94fe263885",
   "metadata": {},
   "source": [
    "### 7) Replace Function \n",
    "#### here two values are given, one which needs to be replaced and one with whcih it is replaced"
   ]
  },
  {
   "cell_type": "code",
   "execution_count": 48,
   "id": "b54289db-956c-445c-8dad-2e2986a0b638",
   "metadata": {},
   "outputs": [
    {
     "name": "stdout",
     "output_type": "stream",
     "text": [
      "anime is cool\n"
     ]
    }
   ],
   "source": [
    "phrase = \"riya is cool\"\n",
    "print(phrase.replace(\"riya\",\"anime\"))"
   ]
  }
 ],
 "metadata": {
  "kernelspec": {
   "display_name": "Python 3 (base)",
   "language": "python",
   "name": "base"
  },
  "language_info": {
   "codemirror_mode": {
    "name": "ipython",
    "version": 3
   },
   "file_extension": ".py",
   "mimetype": "text/x-python",
   "name": "python",
   "nbconvert_exporter": "python",
   "pygments_lexer": "ipython3",
   "version": "3.13.5"
  }
 },
 "nbformat": 4,
 "nbformat_minor": 5
}
